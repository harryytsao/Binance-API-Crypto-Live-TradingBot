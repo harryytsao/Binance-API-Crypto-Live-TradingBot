{
 "cells": [
  {
   "cell_type": "code",
   "execution_count": 19,
   "id": "fb91a6b7",
   "metadata": {},
   "outputs": [],
   "source": [
    "import sqlalchemy\n",
    "import pandas as pd\n",
    "from binance import Client"
   ]
  },
  {
   "cell_type": "code",
   "execution_count": 20,
   "id": "cb7f95f3",
   "metadata": {},
   "outputs": [],
   "source": [
    "api_key = 'your_api_key'\n",
    "api_secret = 'your_api_secret'\n",
    "\n",
    "client = Client(api_key, api_secret)"
   ]
  },
  {
   "cell_type": "code",
   "execution_count": 21,
   "id": "a865a144",
   "metadata": {},
   "outputs": [],
   "source": [
    "engine = sqlalchemy.create_engine('sqlite:///BTCUSDTstream.db')"
   ]
  },
  {
   "cell_type": "code",
   "execution_count": 22,
   "id": "f14370dc",
   "metadata": {},
   "outputs": [],
   "source": [
    "df = pd.read_sql('BTCUSDT', engine)"
   ]
  },
  {
   "cell_type": "code",
   "execution_count": 27,
   "id": "e81fbb8a",
   "metadata": {},
   "outputs": [],
   "source": [
    "#Trendfollowing\n",
    "#if the crypto was rising by x % -> Buy\n",
    "#exit when profit is above 0.15% or loss is crossing -0.15%"
   ]
  },
  {
   "cell_type": "code",
   "execution_count": 28,
   "id": "8ddf0080",
   "metadata": {},
   "outputs": [],
   "source": [
    "def strategy(entry, lookback, qty, open_position=False):\n",
    "    while True:\n",
    "        df = pd.read_sql('BTCUSDT', engine)\n",
    "        lookbackperiod = df.iloc[-lookback:]\n",
    "        cumret = (lookbackperiod.Price.pct_change() + 1).cumprod - 1\n",
    "        if not open_position:\n",
    "            if cumret[cumret.last_valid_index()] > entry:\n",
    "                order = client.create_order(symbol='BTCUSDT', \n",
    "                                           side='BUY',\n",
    "                                           type='MARKET',\n",
    "                                           quantity=qty)\n",
    "                print(order)\n",
    "                open_position = True\n",
    "                break\n",
    "        if open_position:\n",
    "            while True:\n",
    "                df = pd.read_sql('BTCUSDT', engine)\n",
    "                sincebuy = df.loc[df.time > \n",
    "                                  pd.to_datetime(order['transactTime'],\n",
    "                                                 unit='ms')]\n",
    "                if len(sincebuy) > 1:\n",
    "                    sincebuyret = (sincebuy.Price.pct_change() + 1).cumprod() - 1\n",
    "                    last_entry = sincebuyret[sincebuyret.last_valid_index()]\n",
    "                    if last_entry > 0.0015 or last_entry < -0.0015:\n",
    "                        order = client.create_order(symbol='BTCUSDT', \n",
    "                                           side='SELL',\n",
    "                                           type='MARKET',\n",
    "                                           quantity=qty)\n",
    "                        print(order)\n",
    "                        break"
   ]
  },
  {
   "cell_type": "code",
   "execution_count": null,
   "id": "15489789",
   "metadata": {},
   "outputs": [],
   "source": []
  }
 ],
 "metadata": {
  "kernelspec": {
   "display_name": "binancetrading",
   "language": "python",
   "name": "binancetrading"
  },
  "language_info": {
   "codemirror_mode": {
    "name": "ipython",
    "version": 3
   },
   "file_extension": ".py",
   "mimetype": "text/x-python",
   "name": "python",
   "nbconvert_exporter": "python",
   "pygments_lexer": "ipython3",
   "version": "3.10.7"
  }
 },
 "nbformat": 4,
 "nbformat_minor": 5
}
